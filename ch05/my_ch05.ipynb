{
 "cells": [
  {
   "cell_type": "markdown",
   "metadata": {},
   "source": [
    "## __Chapter 5. KMeans clustering으로 네트워크 이상 탐지하기__"
   ]
  },
  {
   "cell_type": "markdown",
   "metadata": {},
   "source": [
    "* Data Loading (490만 개의 연결, 38개의 수치형 특징)"
   ]
  },
  {
   "cell_type": "code",
   "execution_count": 1,
   "metadata": {},
   "outputs": [],
   "source": [
    "# !wget http://kdd.ics.uci.edu/databases/kddcup99/kddcup.data.gz\n",
    "# !gzip -d kddcup.data.gz\n",
    "# !wget http://kdd.ics.uci.edu/databases/kddcup99/kddcup.names"
   ]
  },
  {
   "cell_type": "code",
   "execution_count": 2,
   "metadata": {},
   "outputs": [],
   "source": [
    "with open('kddcup.names') as f :\n",
    "    col_info = f.read()"
   ]
  },
  {
   "cell_type": "code",
   "execution_count": 3,
   "metadata": {},
   "outputs": [
    {
     "name": "stdout",
     "output_type": "stream",
     "text": [
      "back,buffer_overflow,ftp_write,guess_passwd,imap,ipsweep,land,loadmodule,multihop,neptune,nmap,normal,perl,phf,pod,portsweep,rootkit,satan,smurf,spy,teardrop,warezclient,warezmaster.\n",
      "duration: continuous.\n",
      "protocol_type: symbolic.\n",
      "service: symbolic.\n",
      "f\n"
     ]
    }
   ],
   "source": [
    "print(col_info[:250])"
   ]
  },
  {
   "cell_type": "code",
   "execution_count": 4,
   "metadata": {},
   "outputs": [],
   "source": [
    "from pyspark.sql import SparkSession\n",
    "import pyspark.sql.functions as F\n",
    "import pyspark.sql.types as T\n",
    "\n",
    "datapath = './'\n",
    "DRIVER_MEMORY = \"8g\"\n",
    "\n",
    "spark = SparkSession.builder.appName('ch05')\\\n",
    "    .master('local[*]')\\\n",
    "    .config('spark.sql.warehouse.dir', datapath)\\\n",
    "    .config(\"spark.driver.memory\", DRIVER_MEMORY)\\\n",
    "    .getOrCreate()"
   ]
  },
  {
   "cell_type": "code",
   "execution_count": 5,
   "metadata": {},
   "outputs": [],
   "source": [
    "data = spark.read\\\n",
    "    .option('inferSchema', True)\\\n",
    "    .option('header', False)\\\n",
    "    .csv('kddcup.data')\\\n",
    "    .toDF(\n",
    "        \"duration\", \"protocol_type\", \"service\", \"flag\", \"src_bytes\", \"dst_bytes\", \"land\", \"wrong_fragment\", \"urgent\",\n",
    "        \"hot\", \"num_failed_logins\", \"logged_in\", \"num_compromised\", \"root_shell\", \"su_attempted\", \"num_root\", \"num_file_creations\",\n",
    "        \"num_shells\", \"num_access_files\", \"num_outbound_cmds\", \"is_host_login\", \"is_guest_login\", \"count\", \"srv_count\",\n",
    "        \"serror_rate\", \"srv_serror_rate\", \"rerror_rate\", \"srv_rerror_rate\",\n",
    "        \"same_srv_rate\", \"diff_srv_rate\", \"srv_diff_host_rate\", \"dst_host_count\", \"dst_host_srv_count\",\n",
    "        \"dst_host_same_srv_rate\", \"dst_host_diff_srv_rate\", \"dst_host_same_src_port_rate\", \"dst_host_srv_diff_host_rate\",\n",
    "        \"dst_host_serror_rate\", \"dst_host_srv_serror_rate\", \"dst_host_rerror_rate\", \"dst_host_srv_rerror_rate\",\n",
    "        \"label\")"
   ]
  },
  {
   "cell_type": "code",
   "execution_count": 6,
   "metadata": {},
   "outputs": [
    {
     "name": "stdout",
     "output_type": "stream",
     "text": [
      "(4898431, 42)\n"
     ]
    }
   ],
   "source": [
    "print((data.count(), len(data.columns)))"
   ]
  },
  {
   "cell_type": "markdown",
   "metadata": {},
   "source": [
    "* EDA : 기존 label의 분포 확인"
   ]
  },
  {
   "cell_type": "code",
   "execution_count": 7,
   "metadata": {},
   "outputs": [
    {
     "name": "stdout",
     "output_type": "stream",
     "text": [
      "+--------+-------+----------+\n",
      "|   label|  count|percentage|\n",
      "+--------+-------+----------+\n",
      "|  smurf.|2807886|     0.573|\n",
      "|neptune.|1072017|     0.219|\n",
      "| normal.| 972781|     0.199|\n",
      "|  satan.|  15892|     0.003|\n",
      "|ipsweep.|  12481|     0.003|\n",
      "+--------+-------+----------+\n",
      "only showing top 5 rows\n",
      "\n"
     ]
    }
   ],
   "source": [
    "# https://stackoverflow.com/questions/52283751/calculating-percentage-of-total-count-for-groupby-using-pyspark/52285108\n",
    "import pyspark.sql.functions as func\n",
    "data.groupBy('label').agg(\n",
    "    (F.count('label')).alias('count'),\n",
    "    func.round((F.count('label') / data.count()), 3).alias('percentage')\n",
    ").orderBy(F.col('count').desc()).show(n=5)"
   ]
  },
  {
   "cell_type": "markdown",
   "metadata": {},
   "source": [
    "### __5.5. 첫 번째 군집화하기__"
   ]
  },
  {
   "cell_type": "code",
   "execution_count": 8,
   "metadata": {},
   "outputs": [],
   "source": [
    "from pyspark.ml import Pipeline\n",
    "from pyspark.ml.clustering import KMeans, KMeansModel\n",
    "from pyspark.ml.feature import VectorAssembler"
   ]
  },
  {
   "cell_type": "code",
   "execution_count": 9,
   "metadata": {},
   "outputs": [
    {
     "name": "stdout",
     "output_type": "stream",
     "text": [
      "42 -> 39\n"
     ]
    },
    {
     "data": {
      "text/plain": [
       "DataFrame[duration: int, src_bytes: int, dst_bytes: int, land: int, wrong_fragment: int, urgent: int, hot: int, num_failed_logins: int, logged_in: int, num_compromised: int, root_shell: int, su_attempted: int, num_root: int, num_file_creations: int, num_shells: int, num_access_files: int, num_outbound_cmds: int, is_host_login: int, is_guest_login: int, count: int, srv_count: int, serror_rate: double, srv_serror_rate: double, rerror_rate: double, srv_rerror_rate: double, same_srv_rate: double, diff_srv_rate: double, srv_diff_host_rate: double, dst_host_count: int, dst_host_srv_count: int, dst_host_same_srv_rate: double, dst_host_diff_srv_rate: double, dst_host_same_src_port_rate: double, dst_host_srv_diff_host_rate: double, dst_host_serror_rate: double, dst_host_srv_serror_rate: double, dst_host_rerror_rate: double, dst_host_srv_rerror_rate: double, label: string]"
      ]
     },
     "execution_count": 9,
     "metadata": {},
     "output_type": "execute_result"
    }
   ],
   "source": [
    "# Remove categorical data\n",
    "numericOnly = data.drop('protocol_type', 'service', 'flag')\n",
    "print(len(data.columns), '->', len(numericOnly.columns))\n",
    "numericOnly.cache()"
   ]
  },
  {
   "cell_type": "code",
   "execution_count": 10,
   "metadata": {},
   "outputs": [
    {
     "name": "stdout",
     "output_type": "stream",
     "text": [
      "CPU times: user 14.2 ms, sys: 46.1 ms, total: 60.3 ms\n",
      "Wall time: 56.6 s\n"
     ]
    }
   ],
   "source": [
    "%%time\n",
    "assembler = VectorAssembler()\\\n",
    "    .setInputCols([c for c in numericOnly.columns if c != 'label'])\\\n",
    "    .setOutputCol('featureVector')\n",
    "\n",
    "kmeans = KMeans()\\\n",
    "    .setPredictionCol('cluster')\\\n",
    "    .setFeaturesCol('featureVector')\n",
    "\n",
    "pipeline = Pipeline().setStages([assembler, kmeans])\n",
    "pipelineModel = pipeline.fit(numericOnly)"
   ]
  },
  {
   "cell_type": "code",
   "execution_count": 11,
   "metadata": {},
   "outputs": [
    {
     "data": {
      "text/plain": [
       "pyspark.ml.clustering.KMeansModel"
      ]
     },
     "execution_count": 11,
     "metadata": {},
     "output_type": "execute_result"
    }
   ],
   "source": [
    "kmeansModel = pipelineModel.stages[-1]\n",
    "type(kmeansModel)"
   ]
  },
  {
   "cell_type": "code",
   "execution_count": 12,
   "metadata": {},
   "outputs": [
    {
     "name": "stdout",
     "output_type": "stream",
     "text": [
      "<class 'list'>\n"
     ]
    }
   ],
   "source": [
    "print(type(kmeansModel.clusterCenters()))"
   ]
  },
  {
   "cell_type": "code",
   "execution_count": 13,
   "metadata": {},
   "outputs": [
    {
     "name": "stdout",
     "output_type": "stream",
     "text": [
      "[4.83401949e+01 1.83462155e+03 8.26203190e+02 5.71611720e-06\n",
      " 6.48779303e-04 7.96173468e-06 1.24376586e-02 3.20510858e-05\n",
      " 1.43529049e-01 8.08830584e-03 6.81851124e-05 3.67464677e-05\n",
      " 1.29349608e-02 1.18874823e-03 7.43095237e-05 1.02114351e-03\n",
      " 0.00000000e+00 4.08294086e-07 8.35165553e-04 3.34973508e+02\n",
      " 2.95267146e+02 1.77970317e-01 1.78036989e-01 5.76648988e-02\n",
      " 5.77299094e-02 7.89884132e-01 2.11796106e-02 2.82608101e-02\n",
      " 2.32981078e+02 1.89214283e+02 7.53713390e-01 3.07109788e-02\n",
      " 6.05051931e-01 6.46410789e-03 1.78091184e-01 1.77885898e-01\n",
      " 5.79276115e-02 5.76592214e-02]\n",
      "[1.0999000e+04 0.0000000e+00 1.3099374e+09 0.0000000e+00 0.0000000e+00\n",
      " 0.0000000e+00 0.0000000e+00 0.0000000e+00 0.0000000e+00 0.0000000e+00\n",
      " 0.0000000e+00 0.0000000e+00 0.0000000e+00 0.0000000e+00 0.0000000e+00\n",
      " 0.0000000e+00 0.0000000e+00 0.0000000e+00 0.0000000e+00 1.0000000e+00\n",
      " 1.0000000e+00 0.0000000e+00 0.0000000e+00 1.0000000e+00 1.0000000e+00\n",
      " 1.0000000e+00 0.0000000e+00 0.0000000e+00 2.5500000e+02 1.0000000e+00\n",
      " 0.0000000e+00 6.5000000e-01 1.0000000e+00 0.0000000e+00 0.0000000e+00\n",
      " 0.0000000e+00 1.0000000e+00 1.0000000e+00]\n"
     ]
    }
   ],
   "source": [
    "# k=2로 군집화되었다는 뜻\n",
    "import numpy as np\n",
    "import sys\n",
    "np.set_printoptions(threshold=sys.maxsize)\n",
    "\n",
    "for i in kmeansModel.clusterCenters() :\n",
    "    print(i)"
   ]
  },
  {
   "cell_type": "markdown",
   "metadata": {},
   "source": [
    "* 군집화 결과를 직관적으로 이해하기 위해, 각 군집이 포함하는 레이블을 집계해보는 것이 좋겠다."
   ]
  },
  {
   "cell_type": "code",
   "execution_count": 14,
   "metadata": {},
   "outputs": [],
   "source": [
    "withCluster = pipelineModel.transform(numericOnly)"
   ]
  },
  {
   "cell_type": "code",
   "execution_count": 15,
   "metadata": {},
   "outputs": [
    {
     "name": "stdout",
     "output_type": "stream",
     "text": [
      "+-------+------------+-------+\n",
      "|cluster|       label|  count|\n",
      "+-------+------------+-------+\n",
      "|      0|warezmaster.|     20|\n",
      "|      0|warezclient.|   1020|\n",
      "|      0|   teardrop.|    979|\n",
      "|      0|        spy.|      2|\n",
      "|      0|      smurf.|2807886|\n",
      "+-------+------------+-------+\n",
      "only showing top 5 rows\n",
      "\n"
     ]
    }
   ],
   "source": [
    "withCluster\\\n",
    "    .select('cluster', 'label')\\\n",
    "    .groupBy('cluster', 'label')\\\n",
    "    .count()\\\n",
    "    .orderBy(F.col('cluster'), F.col('label').desc())\\\n",
    "    .show(5)"
   ]
  },
  {
   "cell_type": "code",
   "execution_count": 16,
   "metadata": {},
   "outputs": [
    {
     "name": "stdout",
     "output_type": "stream",
     "text": [
      "+-------+------------+\n",
      "|cluster|count(label)|\n",
      "+-------+------------+\n",
      "|      1|           1|\n",
      "|      0|          23|\n",
      "+-------+------------+\n",
      "\n"
     ]
    }
   ],
   "source": [
    "from pyspark.sql.functions import countDistinct\n",
    "\n",
    "withCluster\\\n",
    "    .select('cluster', 'label')\\\n",
    "    .groupBy('cluster')\\\n",
    "    .agg(countDistinct(\"label\")).show()\n",
    "# --> 군집1에는 단 하나의 레이블만이 존재한다."
   ]
  },
  {
   "cell_type": "code",
   "execution_count": 17,
   "metadata": {},
   "outputs": [
    {
     "data": {
      "text/plain": [
       "1"
      ]
     },
     "execution_count": 17,
     "metadata": {},
     "output_type": "execute_result"
    }
   ],
   "source": [
    "withCluster.filter('cluster==1').count()"
   ]
  },
  {
   "cell_type": "markdown",
   "metadata": {},
   "source": [
    "--> 군집1에 단 한 건의 데이터만 존재함을 확인함. 의미있는 군집이 형성되지 않았음.  \n",
    "  \n",
    "    "
   ]
  },
  {
   "cell_type": "markdown",
   "metadata": {},
   "source": [
    "### __5.6. K 선정하기__"
   ]
  },
  {
   "cell_type": "markdown",
   "metadata": {},
   "source": [
    "* 각 데이터 포인트가, 가장 가까운 군집의 중심에 가까울수록 잘 군집화되었다.  \n",
    "    --> 유클리드 거리 기준. KMeansModel.computeCost 메서드가 제곱 거리의 평균을 구해줌.  \n",
    "    --> 그러나, spark3.0.1에서 해당 메서드는 Deprecated됨.  "
   ]
  },
  {
   "cell_type": "markdown",
   "metadata": {},
   "source": [
    "(As-is) KMeansModel.computeCost\n",
    "Note Deprecated in 3.0.0. It will be removed in future versions.   \n",
    "Use ClusteringEvaluator instead. You can also get the cost on the training dataset in the summary.\n",
    "\n",
    "https://spark.apache.org/docs/latest/api/python/pyspark.ml.html#pyspark.ml.evaluation.ClusteringEvaluator    \n",
    "    \n",
    "class pyspark.ml.evaluation.ClusteringEvaluator( predictionCol='prediction' , featuresCol='features' , metricName='silhouette' , distanceMeasure='squaredEuclidean')"
   ]
  },
  {
   "cell_type": "markdown",
   "metadata": {},
   "source": [
    "_____\n",
    "#### ※ Silhouette value"
   ]
  },
  {
   "cell_type": "markdown",
   "metadata": {},
   "source": [
    "Silhouette은 클러스터의 유효성을 확인하는 척도입니다.  \n",
    "값의 범위는 -1 $\\leq$ Silhouette(i) $\\leq$ 1 이며,  \n",
    "1에 가까운 값은, 클러스터의 포인트가 같은 클러스터의 다른 포인트에 가깝고, 다른 클러스터의 포인트에서 멀리 떨어져 있음을 의미합니다.  \n",
    "보통 실루엣 지표가 0.5보다 크면 군집 결과가 타당한 것으로 평가하게 된다고 합니다."
   ]
  },
  {
   "cell_type": "markdown",
   "metadata": {},
   "source": [
    "We now define a silhouette (value) of **one data point** *i*"
   ]
  },
  {
   "cell_type": "markdown",
   "metadata": {},
   "source": [
    "![Silhouette](https://wikimedia.org/api/rest_v1/media/math/render/svg/3d80ab22fb291b347b2d9dc3cc7cd614f6b15479)"
   ]
  },
  {
   "cell_type": "markdown",
   "metadata": {},
   "source": [
    "Silhouette coefficient : for the maximum value of __the mean *s(i)*__ over all data of the entire dataset."
   ]
  },
  {
   "cell_type": "markdown",
   "metadata": {},
   "source": [
    "![Silhouette_coefficient](https://wikimedia.org/api/rest_v1/media/math/render/svg/cf1bf4fc02c4dde69ad981bba92e1829f92dd648)  \n",
    "____"
   ]
  },
  {
   "cell_type": "code",
   "execution_count": 18,
   "metadata": {},
   "outputs": [],
   "source": [
    "from pyspark.sql import DataFrame\n",
    "from pyspark.ml.evaluation import ClusteringEvaluator\n",
    "\n",
    "def clusteringScore0(data, k) :\n",
    "    assembler = VectorAssembler()\\\n",
    "        .setInputCols([c for c in data.columns if c != 'label'])\\\n",
    "        .setOutputCol('featureVector')\n",
    "\n",
    "    kmeans = KMeans()\\\n",
    "        .setSeed(123)\\\n",
    "        .setK(k)\\\n",
    "        .setPredictionCol('cluster')\\\n",
    "        .setFeaturesCol('featureVector')\n",
    "\n",
    "    pipeline = Pipeline().setStages([assembler, kmeans])\n",
    "    kmeansModel = pipeline.fit(data).stages[-1]\n",
    "    \n",
    "    predictions = pipeline.fit(data).transform(data)\n",
    "    centers = kmeansModel.clusterCenters()\n",
    "    \n",
    "    evaluator = ClusteringEvaluator(predictionCol='cluster', featuresCol='featureVector')\n",
    "    silhouette = evaluator.evaluate(predictions)\n",
    "    \n",
    "    return predictions, centers, silhouette"
   ]
  },
  {
   "cell_type": "code",
   "execution_count": 19,
   "metadata": {},
   "outputs": [
    {
     "name": "stdout",
     "output_type": "stream",
     "text": [
      "[Step0] Silhouette with squared euclidean distance :: \n",
      "\t (20, 0.9999387403931099)\n",
      "\t (40, -0.6072042735190857)\n",
      "\t (60, -0.5609990691653991)\n",
      "\t (80, -0.09664689300403269)\n",
      "\t (100, -0.03644915104694833)\n",
      "CPU times: user 476 ms, sys: 319 ms, total: 795 ms\n",
      "Wall time: 12min 2s\n"
     ]
    }
   ],
   "source": [
    "%%time\n",
    "\n",
    "all_preds = []\n",
    "print(\"[Step0] Silhouette with squared euclidean distance :: \")\n",
    "\n",
    "for k in range(20, 100+1, 20) :\n",
    "    predictions, centers, silhouette = clusteringScore0(numericOnly, k)\n",
    "    all_preds.append((k, predictions))\n",
    "    print('\\t', (k, silhouette))"
   ]
  },
  {
   "cell_type": "markdown",
   "metadata": {},
   "source": [
    "### 5.7. 시각화하기"
   ]
  },
  {
   "cell_type": "code",
   "execution_count": 20,
   "metadata": {},
   "outputs": [
    {
     "data": {
      "text/html": [
       "<div>\n",
       "<style scoped>\n",
       "    .dataframe tbody tr th:only-of-type {\n",
       "        vertical-align: middle;\n",
       "    }\n",
       "\n",
       "    .dataframe tbody tr th {\n",
       "        vertical-align: top;\n",
       "    }\n",
       "\n",
       "    .dataframe thead th {\n",
       "        text-align: right;\n",
       "    }\n",
       "</style>\n",
       "<table border=\"1\" class=\"dataframe\">\n",
       "  <thead>\n",
       "    <tr style=\"text-align: right;\">\n",
       "      <th></th>\n",
       "      <th>0</th>\n",
       "      <th>1</th>\n",
       "      <th>2</th>\n",
       "      <th>3</th>\n",
       "      <th>4</th>\n",
       "      <th>5</th>\n",
       "      <th>6</th>\n",
       "      <th>7</th>\n",
       "      <th>8</th>\n",
       "      <th>9</th>\n",
       "      <th>10</th>\n",
       "      <th>11</th>\n",
       "      <th>12</th>\n",
       "      <th>13</th>\n",
       "      <th>14</th>\n",
       "      <th>15</th>\n",
       "      <th>16</th>\n",
       "      <th>17</th>\n",
       "    </tr>\n",
       "  </thead>\n",
       "  <tbody>\n",
       "    <tr>\n",
       "      <th>cluster</th>\n",
       "      <td>17</td>\n",
       "      <td>0</td>\n",
       "      <td>10</td>\n",
       "      <td>11</td>\n",
       "      <td>12</td>\n",
       "      <td>9</td>\n",
       "      <td>13</td>\n",
       "      <td>15</td>\n",
       "      <td>1</td>\n",
       "      <td>6</td>\n",
       "      <td>16</td>\n",
       "      <td>3</td>\n",
       "      <td>5</td>\n",
       "      <td>4</td>\n",
       "      <td>8</td>\n",
       "      <td>7</td>\n",
       "      <td>14</td>\n",
       "      <td>2</td>\n",
       "    </tr>\n",
       "    <tr>\n",
       "      <th>count</th>\n",
       "      <td>4897898</td>\n",
       "      <td>244</td>\n",
       "      <td>203</td>\n",
       "      <td>63</td>\n",
       "      <td>4</td>\n",
       "      <td>4</td>\n",
       "      <td>3</td>\n",
       "      <td>2</td>\n",
       "      <td>1</td>\n",
       "      <td>1</td>\n",
       "      <td>1</td>\n",
       "      <td>1</td>\n",
       "      <td>1</td>\n",
       "      <td>1</td>\n",
       "      <td>1</td>\n",
       "      <td>1</td>\n",
       "      <td>1</td>\n",
       "      <td>1</td>\n",
       "    </tr>\n",
       "  </tbody>\n",
       "</table>\n",
       "</div>"
      ],
      "text/plain": [
       "              0    1    2   3   4   5   6   7   8   9   10  11  12  13  14  \\\n",
       "cluster       17    0   10  11  12   9  13  15   1   6  16   3   5   4   8   \n",
       "count    4897898  244  203  63   4   4   3   2   1   1   1   1   1   1   1   \n",
       "\n",
       "         15  16  17  \n",
       "cluster   7  14   2  \n",
       "count     1   1   1  "
      ]
     },
     "execution_count": 20,
     "metadata": {},
     "output_type": "execute_result"
    }
   ],
   "source": [
    "pred20 = all_preds[0][1]\n",
    "pred20.select('cluster').groupBy('cluster').count().orderBy(F.col('count').desc()).toPandas().T"
   ]
  },
  {
   "cell_type": "code",
   "execution_count": 21,
   "metadata": {},
   "outputs": [
    {
     "data": {
      "text/html": [
       "<div>\n",
       "<style scoped>\n",
       "    .dataframe tbody tr th:only-of-type {\n",
       "        vertical-align: middle;\n",
       "    }\n",
       "\n",
       "    .dataframe tbody tr th {\n",
       "        vertical-align: top;\n",
       "    }\n",
       "\n",
       "    .dataframe thead th {\n",
       "        text-align: right;\n",
       "    }\n",
       "</style>\n",
       "<table border=\"1\" class=\"dataframe\">\n",
       "  <thead>\n",
       "    <tr style=\"text-align: right;\">\n",
       "      <th></th>\n",
       "      <th>0</th>\n",
       "      <th>1</th>\n",
       "      <th>2</th>\n",
       "      <th>3</th>\n",
       "      <th>4</th>\n",
       "      <th>5</th>\n",
       "      <th>6</th>\n",
       "      <th>7</th>\n",
       "      <th>8</th>\n",
       "      <th>9</th>\n",
       "      <th>...</th>\n",
       "      <th>61</th>\n",
       "      <th>62</th>\n",
       "      <th>63</th>\n",
       "      <th>64</th>\n",
       "      <th>65</th>\n",
       "      <th>66</th>\n",
       "      <th>67</th>\n",
       "      <th>68</th>\n",
       "      <th>69</th>\n",
       "      <th>70</th>\n",
       "    </tr>\n",
       "  </thead>\n",
       "  <tbody>\n",
       "    <tr>\n",
       "      <th>cluster</th>\n",
       "      <td>29</td>\n",
       "      <td>16</td>\n",
       "      <td>68</td>\n",
       "      <td>65</td>\n",
       "      <td>11</td>\n",
       "      <td>32</td>\n",
       "      <td>67</td>\n",
       "      <td>58</td>\n",
       "      <td>0</td>\n",
       "      <td>31</td>\n",
       "      <td>...</td>\n",
       "      <td>25</td>\n",
       "      <td>70</td>\n",
       "      <td>62</td>\n",
       "      <td>56</td>\n",
       "      <td>33</td>\n",
       "      <td>14</td>\n",
       "      <td>42</td>\n",
       "      <td>2</td>\n",
       "      <td>30</td>\n",
       "      <td>18</td>\n",
       "    </tr>\n",
       "    <tr>\n",
       "      <th>count</th>\n",
       "      <td>2375696</td>\n",
       "      <td>1707725</td>\n",
       "      <td>527953</td>\n",
       "      <td>183853</td>\n",
       "      <td>67885</td>\n",
       "      <td>18816</td>\n",
       "      <td>10272</td>\n",
       "      <td>3564</td>\n",
       "      <td>1462</td>\n",
       "      <td>490</td>\n",
       "      <td>...</td>\n",
       "      <td>1</td>\n",
       "      <td>1</td>\n",
       "      <td>1</td>\n",
       "      <td>1</td>\n",
       "      <td>1</td>\n",
       "      <td>1</td>\n",
       "      <td>1</td>\n",
       "      <td>1</td>\n",
       "      <td>1</td>\n",
       "      <td>1</td>\n",
       "    </tr>\n",
       "  </tbody>\n",
       "</table>\n",
       "<p>2 rows × 71 columns</p>\n",
       "</div>"
      ],
      "text/plain": [
       "              0        1       2       3      4      5      6     7     8   \\\n",
       "cluster       29       16      68      65     11     32     67    58     0   \n",
       "count    2375696  1707725  527953  183853  67885  18816  10272  3564  1462   \n",
       "\n",
       "          9   ...  61  62  63  64  65  66  67  68  69  70  \n",
       "cluster   31  ...  25  70  62  56  33  14  42   2  30  18  \n",
       "count    490  ...   1   1   1   1   1   1   1   1   1   1  \n",
       "\n",
       "[2 rows x 71 columns]"
      ]
     },
     "execution_count": 21,
     "metadata": {},
     "output_type": "execute_result"
    }
   ],
   "source": [
    "pred100 = all_preds[-1][1]\n",
    "pred100.select('cluster').groupBy('cluster').count().orderBy(F.col('count').desc()).toPandas().T"
   ]
  },
  {
   "cell_type": "markdown",
   "metadata": {},
   "source": [
    "(100개 군집으로 나눴을 때) 개별 군집에 가장 많은 레이블은 무엇일까?   \n",
    "    --> cluster29: smurf,  cluster16: neptune,   cluster65: normal     \n",
    "    --> smurf, neptune은 비교적 군집 특징이 뚜렷한가봄.   "
   ]
  },
  {
   "cell_type": "code",
   "execution_count": 22,
   "metadata": {},
   "outputs": [
    {
     "data": {
      "text/html": [
       "<div>\n",
       "<style scoped>\n",
       "    .dataframe tbody tr th:only-of-type {\n",
       "        vertical-align: middle;\n",
       "    }\n",
       "\n",
       "    .dataframe tbody tr th {\n",
       "        vertical-align: top;\n",
       "    }\n",
       "\n",
       "    .dataframe thead th {\n",
       "        text-align: right;\n",
       "    }\n",
       "</style>\n",
       "<table border=\"1\" class=\"dataframe\">\n",
       "  <thead>\n",
       "    <tr style=\"text-align: right;\">\n",
       "      <th></th>\n",
       "      <th>0</th>\n",
       "      <th>1</th>\n",
       "      <th>2</th>\n",
       "      <th>3</th>\n",
       "      <th>4</th>\n",
       "      <th>5</th>\n",
       "      <th>6</th>\n",
       "      <th>7</th>\n",
       "      <th>8</th>\n",
       "      <th>9</th>\n",
       "    </tr>\n",
       "  </thead>\n",
       "  <tbody>\n",
       "    <tr>\n",
       "      <th>label</th>\n",
       "      <td>smurf.</td>\n",
       "      <td>normal.</td>\n",
       "      <td>pod.</td>\n",
       "      <td>warezclient.</td>\n",
       "      <td>satan.</td>\n",
       "      <td>back.</td>\n",
       "      <td>portsweep.</td>\n",
       "      <td>imap.</td>\n",
       "      <td>multihop.</td>\n",
       "      <td>neptune.</td>\n",
       "    </tr>\n",
       "    <tr>\n",
       "      <th>count</th>\n",
       "      <td>2280163</td>\n",
       "      <td>95193</td>\n",
       "      <td>259</td>\n",
       "      <td>63</td>\n",
       "      <td>7</td>\n",
       "      <td>6</td>\n",
       "      <td>2</td>\n",
       "      <td>1</td>\n",
       "      <td>1</td>\n",
       "      <td>1</td>\n",
       "    </tr>\n",
       "  </tbody>\n",
       "</table>\n",
       "</div>"
      ],
      "text/plain": [
       "             0        1     2             3       4      5           6      7  \\\n",
       "label   smurf.  normal.  pod.  warezclient.  satan.  back.  portsweep.  imap.   \n",
       "count  2280163    95193   259            63       7      6           2      1   \n",
       "\n",
       "               8         9  \n",
       "label  multihop.  neptune.  \n",
       "count          1         1  "
      ]
     },
     "execution_count": 22,
     "metadata": {},
     "output_type": "execute_result"
    }
   ],
   "source": [
    "# 29번 군집에는 smurf가 제일 많다.\n",
    "sample100_cluster29 = pred100.filter('cluster==29')\n",
    "sample100_cluster29.select('label').groupBy('label').count().orderBy(F.col('count').desc()).toPandas().T"
   ]
  },
  {
   "cell_type": "code",
   "execution_count": 23,
   "metadata": {},
   "outputs": [
    {
     "data": {
      "text/html": [
       "<div>\n",
       "<style scoped>\n",
       "    .dataframe tbody tr th:only-of-type {\n",
       "        vertical-align: middle;\n",
       "    }\n",
       "\n",
       "    .dataframe tbody tr th {\n",
       "        vertical-align: top;\n",
       "    }\n",
       "\n",
       "    .dataframe thead th {\n",
       "        text-align: right;\n",
       "    }\n",
       "</style>\n",
       "<table border=\"1\" class=\"dataframe\">\n",
       "  <thead>\n",
       "    <tr style=\"text-align: right;\">\n",
       "      <th></th>\n",
       "      <th>0</th>\n",
       "      <th>1</th>\n",
       "      <th>2</th>\n",
       "      <th>3</th>\n",
       "      <th>4</th>\n",
       "      <th>5</th>\n",
       "      <th>6</th>\n",
       "      <th>7</th>\n",
       "      <th>8</th>\n",
       "      <th>9</th>\n",
       "      <th>10</th>\n",
       "      <th>11</th>\n",
       "      <th>12</th>\n",
       "      <th>13</th>\n",
       "      <th>14</th>\n",
       "      <th>15</th>\n",
       "      <th>16</th>\n",
       "      <th>17</th>\n",
       "      <th>18</th>\n",
       "      <th>19</th>\n",
       "    </tr>\n",
       "  </thead>\n",
       "  <tbody>\n",
       "    <tr>\n",
       "      <th>label</th>\n",
       "      <td>neptune.</td>\n",
       "      <td>normal.</td>\n",
       "      <td>satan.</td>\n",
       "      <td>ipsweep.</td>\n",
       "      <td>portsweep.</td>\n",
       "      <td>nmap.</td>\n",
       "      <td>teardrop.</td>\n",
       "      <td>warezclient.</td>\n",
       "      <td>smurf.</td>\n",
       "      <td>guess_passwd.</td>\n",
       "      <td>land.</td>\n",
       "      <td>imap.</td>\n",
       "      <td>ftp_write.</td>\n",
       "      <td>rootkit.</td>\n",
       "      <td>pod.</td>\n",
       "      <td>loadmodule.</td>\n",
       "      <td>warezmaster.</td>\n",
       "      <td>buffer_overflow.</td>\n",
       "      <td>multihop.</td>\n",
       "      <td>spy.</td>\n",
       "    </tr>\n",
       "    <tr>\n",
       "      <th>count</th>\n",
       "      <td>1072016</td>\n",
       "      <td>593710</td>\n",
       "      <td>15883</td>\n",
       "      <td>12480</td>\n",
       "      <td>9517</td>\n",
       "      <td>2316</td>\n",
       "      <td>979</td>\n",
       "      <td>590</td>\n",
       "      <td>122</td>\n",
       "      <td>52</td>\n",
       "      <td>21</td>\n",
       "      <td>9</td>\n",
       "      <td>6</td>\n",
       "      <td>6</td>\n",
       "      <td>5</td>\n",
       "      <td>5</td>\n",
       "      <td>2</td>\n",
       "      <td>2</td>\n",
       "      <td>2</td>\n",
       "      <td>2</td>\n",
       "    </tr>\n",
       "  </tbody>\n",
       "</table>\n",
       "</div>"
      ],
      "text/plain": [
       "             0        1       2         3           4      5          6   \\\n",
       "label  neptune.  normal.  satan.  ipsweep.  portsweep.  nmap.  teardrop.   \n",
       "count   1072016   593710   15883     12480        9517   2316        979   \n",
       "\n",
       "                 7       8              9      10     11          12  \\\n",
       "label  warezclient.  smurf.  guess_passwd.  land.  imap.  ftp_write.   \n",
       "count           590     122             52     21      9           6   \n",
       "\n",
       "             13    14           15            16                17         18  \\\n",
       "label  rootkit.  pod.  loadmodule.  warezmaster.  buffer_overflow.  multihop.   \n",
       "count         6     5            5             2                 2          2   \n",
       "\n",
       "         19  \n",
       "label  spy.  \n",
       "count     2  "
      ]
     },
     "execution_count": 23,
     "metadata": {},
     "output_type": "execute_result"
    }
   ],
   "source": [
    "# 16번 군집에는 neptune이 제일 많다. \n",
    "# EDA때 neptune이 약 107만건 이었던걸 감안하면, 16번 군집은 Neptune을 잘 군집화했다고 볼 수 있을 것 같다.\n",
    "sample100_cluster16 = pred100.filter('cluster==16')\n",
    "sample100_cluster16.select('label').groupBy('label').count().orderBy(F.col('count').desc()).toPandas().T"
   ]
  },
  {
   "cell_type": "code",
   "execution_count": 24,
   "metadata": {},
   "outputs": [
    {
     "data": {
      "text/html": [
       "<div>\n",
       "<style scoped>\n",
       "    .dataframe tbody tr th:only-of-type {\n",
       "        vertical-align: middle;\n",
       "    }\n",
       "\n",
       "    .dataframe tbody tr th {\n",
       "        vertical-align: top;\n",
       "    }\n",
       "\n",
       "    .dataframe thead th {\n",
       "        text-align: right;\n",
       "    }\n",
       "</style>\n",
       "<table border=\"1\" class=\"dataframe\">\n",
       "  <thead>\n",
       "    <tr style=\"text-align: right;\">\n",
       "      <th></th>\n",
       "      <th>0</th>\n",
       "      <th>1</th>\n",
       "      <th>2</th>\n",
       "      <th>3</th>\n",
       "      <th>4</th>\n",
       "      <th>5</th>\n",
       "      <th>6</th>\n",
       "      <th>7</th>\n",
       "      <th>8</th>\n",
       "      <th>9</th>\n",
       "    </tr>\n",
       "  </thead>\n",
       "  <tbody>\n",
       "    <tr>\n",
       "      <th>label</th>\n",
       "      <td>normal.</td>\n",
       "      <td>warezclient.</td>\n",
       "      <td>buffer_overflow.</td>\n",
       "      <td>loadmodule.</td>\n",
       "      <td>perl.</td>\n",
       "      <td>warezmaster.</td>\n",
       "      <td>rootkit.</td>\n",
       "      <td>guess_passwd.</td>\n",
       "      <td>satan.</td>\n",
       "      <td>ftp_write.</td>\n",
       "    </tr>\n",
       "    <tr>\n",
       "      <th>count</th>\n",
       "      <td>183529</td>\n",
       "      <td>285</td>\n",
       "      <td>26</td>\n",
       "      <td>3</td>\n",
       "      <td>3</td>\n",
       "      <td>2</td>\n",
       "      <td>2</td>\n",
       "      <td>1</td>\n",
       "      <td>1</td>\n",
       "      <td>1</td>\n",
       "    </tr>\n",
       "  </tbody>\n",
       "</table>\n",
       "</div>"
      ],
      "text/plain": [
       "             0             1                 2            3      4  \\\n",
       "label  normal.  warezclient.  buffer_overflow.  loadmodule.  perl.   \n",
       "count   183529           285                26            3      3   \n",
       "\n",
       "                  5         6              7       8           9  \n",
       "label  warezmaster.  rootkit.  guess_passwd.  satan.  ftp_write.  \n",
       "count             2         2              1       1           1  "
      ]
     },
     "execution_count": 24,
     "metadata": {},
     "output_type": "execute_result"
    }
   ],
   "source": [
    "# 65번 군집에는 normal이 제일 많다. 하지만 29, 16번 군집에도 그 수가 많다...\n",
    "sample100_cluster65 = pred100.filter('cluster==65')\n",
    "sample100_cluster65.select('label').groupBy('label').count().orderBy(F.col('count').desc()).toPandas().T"
   ]
  },
  {
   "cell_type": "code",
   "execution_count": 33,
   "metadata": {},
   "outputs": [
    {
     "data": {
      "text/plain": [
       "['dst_host_rerror_rate',\n",
       " 'dst_host_srv_rerror_rate',\n",
       " 'label',\n",
       " 'featureVector',\n",
       " 'cluster']"
      ]
     },
     "execution_count": 33,
     "metadata": {},
     "output_type": "execute_result"
    }
   ],
   "source": [
    "pred100.columns[-5:]"
   ]
  },
  {
   "cell_type": "code",
   "execution_count": 114,
   "metadata": {},
   "outputs": [
    {
     "name": "stdout",
     "output_type": "stream",
     "text": [
      "(4898431, 3)\n",
      "['pcaFeatures', 'label', 'cluster']\n"
     ]
    },
    {
     "data": {
      "text/plain": [
       "DataFrame[pcaFeatures: vector, label: string, cluster: int]"
      ]
     },
     "execution_count": 114,
     "metadata": {},
     "output_type": "execute_result"
    }
   ],
   "source": [
    "from pyspark.ml.feature import PCA\n",
    "df_pca = PCA()\\\n",
    "    .setInputCol(\"featureVector\")\\\n",
    "    .setOutputCol(\"pcaFeatures\")\\\n",
    "    .setK(2)\\\n",
    "    .fit(pred100)\\\n",
    "    .transform(pred100)\\\n",
    "    .select('pcaFeatures', 'label', 'cluster')\n",
    "print((df_pca.count(), len(df_pca.columns)))\n",
    "print(df_pca.columns)\n",
    "df_pca.cache()"
   ]
  },
  {
   "cell_type": "code",
   "execution_count": 115,
   "metadata": {},
   "outputs": [
    {
     "data": {
      "text/plain": [
       "['pcaFeatures', 'label', 'cluster', 'v1', 'v2']"
      ]
     },
     "execution_count": 115,
     "metadata": {},
     "output_type": "execute_result"
    }
   ],
   "source": [
    "# PCA결과로 얻은 DenseVector를 해체함.\n",
    "for i in range(2) :\n",
    "    to_array = F.udf(lambda v: v.toArray().tolist()[i])\n",
    "    new_colname = 'v{}'.format(i+1)\n",
    "    df_pca = df_pca.withColumn(new_colname, to_array(F.col('pcaFeatures')))\n",
    "df_pca.columns"
   ]
  },
  {
   "cell_type": "code",
   "execution_count": 116,
   "metadata": {},
   "outputs": [
    {
     "data": {
      "text/plain": [
       "(4898431, 5)"
      ]
     },
     "execution_count": 116,
     "metadata": {},
     "output_type": "execute_result"
    }
   ],
   "source": [
    "pdf_pca = df_pca.toPandas()\n",
    "pdf_pca.shape"
   ]
  },
  {
   "cell_type": "code",
   "execution_count": null,
   "metadata": {},
   "outputs": [],
   "source": [
    "%matplotlib inline\n",
    "%time\n",
    "pdf_pca.plot(kind='scatter', x='v1', y='v2', c='cluster', colormap='viridis')"
   ]
  },
  {
   "cell_type": "code",
   "execution_count": null,
   "metadata": {},
   "outputs": [],
   "source": [
    "colors = [\"#7fc97f\", \"#beaed4\", \"#fdc086\", \"#ffff99\", \"#386cb0\", \"#f0027f\"]"
   ]
  },
  {
   "cell_type": "code",
   "execution_count": null,
   "metadata": {},
   "outputs": [],
   "source": [
    "ax.scatter(finalDf.loc[indicesToKeep, 'principal component 1']\n",
    "               , finalDf.loc[indicesToKeep, 'principal component 2']\n",
    "               , c = color\n",
    "               , s = 50)"
   ]
  },
  {
   "cell_type": "code",
   "execution_count": null,
   "metadata": {},
   "outputs": [],
   "source": [
    "for label, color in zip(labels, colors):\n",
    "    indicesToKeep = finalDataFrame['label'] == label\n",
    "    ax.scatter(finalDataFrame.loc[indicesToKeep, 'principal component 1']\n",
    "               , finalDataFrame.loc[indicesToKeep, 'principal component 2']\n",
    "               , c = color\n",
    "               , s = 30)\n",
    "\n",
    "ax.legend(labels)"
   ]
  },
  {
   "cell_type": "code",
   "execution_count": null,
   "metadata": {},
   "outputs": [],
   "source": [
    "# from pyspark.ml.feature import VectorAssembler, StringIndexer, OneHotEncoder, StandardScaler, MinMaxScaler, PCA\n",
    "from pyspark.ml.feature import PCA\n",
    "\n",
    "def pca_figure(pred_df, input_col, k):\n",
    "    pca = PCA(k=k, inputCol=input_col, outputCol=\"features_pca\")\n",
    "    pca_model = pca.fit(pred_df)\n",
    "    pcaDf = pca_model.transform(predDf).select(\"features_pca\", \"prediction\")\n",
    "    \n",
    "    pca_df = pcaDf.toPandas()\n",
    "    \n",
    "    if k == 2:\n",
    "        dataX = []\n",
    "        dataY = []\n",
    "        for vec in pca_df.values:\n",
    "            dataX.extend([vec[0][0]])\n",
    "            dataY.extend([vec[0][1]])\n",
    "        sns.scatterplot(dataX, dataY, hue=pca_df['prediction'])\n",
    "        plt.show()\n",
    "    \n",
    "    elif k == 3:\n",
    "        dataX = []\n",
    "        dataY = []\n",
    "        dataZ = []\n",
    "        for vec in pca_df.values:\n",
    "            dataX.extend([vec[0][0]])\n",
    "            dataY.extend([vec[0][1]])\n",
    "            dataZ.extend([vec[0][2]])\n",
    "\n",
    "        fig = plt.figure(figsize=(10, 5))\n",
    "        ax = fig.add_subplot(111, projection='3d') # Axe3D object\n",
    "        p = ax.scatter(dataX, dataY, dataZ, c=pca_df['prediction'], s=20, alpha=0.5)\n",
    "        fig.colorbar(p)\n",
    "        plt.show()\n",
    "    else:\n",
    "        pass"
   ]
  },
  {
   "cell_type": "markdown",
   "metadata": {},
   "source": [
    "### 5.8. 정규화 (StandardScaler)"
   ]
  },
  {
   "cell_type": "code",
   "execution_count": 25,
   "metadata": {},
   "outputs": [],
   "source": [
    "from pyspark.ml.feature import StandardScaler\n",
    "\n",
    "def clusteringScore2(data, k) :\n",
    "    assembler = VectorAssembler()\\\n",
    "        .setInputCols([c for c in data.columns if c != 'label'])\\\n",
    "        .setOutputCol('featureVector')\n",
    "    \n",
    "    scaler = StandardScaler()\\\n",
    "        .setInputCol('featureVector')\\\n",
    "        .setOutputCol('scaledFeatureVector')\\\n",
    "        .setWithStd(True)\\\n",
    "        .setWithMean(False)\n",
    "\n",
    "    kmeans = KMeans()\\\n",
    "        .setSeed(123)\\\n",
    "        .setK(k)\\\n",
    "        .setPredictionCol('cluster')\\\n",
    "        .setFeaturesCol('scaledFeatureVector')\\\n",
    "        .setMaxIter(40)\\\n",
    "        .setTol(1.0e-5)\n",
    "\n",
    "    pipeline = Pipeline().setStages([assembler, scaler, kmeans])\n",
    "    predictions = pipeline.fit(data).transform(data)\n",
    "    \n",
    "    # 전체 거리 제곱의 평균(비용)을 구한다.\n",
    "    # return kmeansModel.computeCost(assembler.transform(data)) / data.count()\n",
    "    evaluator = ClusteringEvaluator(predictionCol='cluster', featuresCol='featureVector')\n",
    "    silhouette = evaluator.evaluate(predictions)\n",
    "    return silhouette"
   ]
  },
  {
   "cell_type": "code",
   "execution_count": 26,
   "metadata": {},
   "outputs": [
    {
     "name": "stdout",
     "output_type": "stream",
     "text": [
      "Silhouette with squared euclidean distance :: \n",
      "(20, 0.10287107799394214)\n",
      "(40, 0.2877090047241465)\n",
      "(60, 0.29655580360408745)\n",
      "(80, 0.3051650244355804)\n",
      "(100, 0.3382389268645949)\n",
      "CPU times: user 523 ms, sys: 341 ms, total: 864 ms\n",
      "Wall time: 13min 30s\n"
     ]
    }
   ],
   "source": [
    "%%time\n",
    "print(\"Silhouette with squared euclidean distance :: \")\n",
    "for k in range(20, 101, 20) :\n",
    "    print((k, clusteringScore2(numericOnly, k)))"
   ]
  },
  {
   "cell_type": "markdown",
   "metadata": {},
   "source": [
    "### 5.9. 범주형 변수 One-Hot-Encoding"
   ]
  },
  {
   "cell_type": "markdown",
   "metadata": {},
   "source": [
    "먼저 StringIndexer를 사용해 정수 인덱스로 변환하고,  다시 정수 인덱스를 OHE 벡터로 인코딩한다."
   ]
  },
  {
   "cell_type": "code",
   "execution_count": 27,
   "metadata": {},
   "outputs": [],
   "source": [
    "from pyspark.ml.feature import OneHotEncoder, StringIndexer\n",
    "\n",
    "def oneHotPipeline(inputColname) :\n",
    "    indexer = StringIndexer()\\\n",
    "        .setInputCol(inputColname)\\\n",
    "        .setOutputCol(inputColname + \"_indexed\")\n",
    "    encoder = OneHotEncoder()\\\n",
    "        .setInputCol(inputColname + \"_indexed\")\\\n",
    "        .setOutputCol(inputColname + \"_vec\")\n",
    "    pipeline = Pipeline().setStages([indexer, encoder])\n",
    "    return pipeline, inputColname + \"_vec\"\n",
    "    \n",
    "\n",
    "def clusteringScore3(data, k) :\n",
    "    protoTypeEncoder, protoTypeVecCol = oneHotPipeline(\"protocol_type\")\n",
    "    serviceEncoder, serviceVecCol = oneHotPipeline(\"service\")\n",
    "    flagEncoder, flagVecCol = oneHotPipeline(\"flag\")\n",
    "\n",
    "    assembleCols = set(data.columns)\\\n",
    "        - set([\"label\", \"protocol_type\", \"service\", \"flag\"])\\\n",
    "        .union(set([protoTypeVecCol, serviceVecCol, flagVecCol]))\n",
    "    \n",
    "    assembler = VectorAssembler()\\\n",
    "        .setInputCols(list(assembleCols))\\\n",
    "        .setOutputCol('featureVector')\n",
    "    \n",
    "    scaler = StandardScaler()\\\n",
    "        .setInputCol('featureVector')\\\n",
    "        .setOutputCol('scaledFeatureVector')\\\n",
    "        .setWithStd(True)\\\n",
    "        .setWithMean(False)\n",
    "\n",
    "    kmeans = KMeans()\\\n",
    "        .setSeed(123)\\\n",
    "        .setK(k)\\\n",
    "        .setPredictionCol('cluster')\\\n",
    "        .setFeaturesCol('scaledFeatureVector')\\\n",
    "        .setMaxIter(40)\\\n",
    "        .setTol(1.0e-5)\n",
    "\n",
    "    pipeline = Pipeline().setStages([assembler, scaler, kmeans])\n",
    "    predictions = pipeline.fit(data).transform(data)\n",
    "    \n",
    "    # 전체 거리 제곱의 평균(비용)을 구한다.\n",
    "    # return kmeansModel.computeCost(assembler.transform(data)) / data.count()\n",
    "    evaluator = ClusteringEvaluator(predictionCol='cluster', featuresCol='featureVector')\n",
    "    silhouette = evaluator.evaluate(predictions)\n",
    "    return silhouette"
   ]
  },
  {
   "cell_type": "code",
   "execution_count": 28,
   "metadata": {},
   "outputs": [
    {
     "name": "stdout",
     "output_type": "stream",
     "text": [
      "Silhouette with squared euclidean distance :: \n",
      "(60, 0.2965558036040874)\n",
      "(100, 0.33823892686459495)\n",
      "(140, 0.1361259737154779)\n",
      "(180, 0.18680049117949526)\n",
      "CPU times: user 489 ms, sys: 273 ms, total: 762 ms\n",
      "Wall time: 17min 6s\n"
     ]
    }
   ],
   "source": [
    "%%time\n",
    "print(\"Silhouette with squared euclidean distance :: \")\n",
    "for k in range(60, 200, 40) :\n",
    "    print((k, clusteringScore3(numericOnly, k)))"
   ]
  },
  {
   "cell_type": "markdown",
   "metadata": {},
   "source": [
    "### 5.10. 엔트로피와 함께 레이블 활용하기"
   ]
  },
  {
   "cell_type": "code",
   "execution_count": 29,
   "metadata": {},
   "outputs": [],
   "source": [
    "import math\n",
    "def entropy(counts) :\n",
    "    values = [c for c in counts if c > 0]\n",
    "    n = sum([float(c) for c in counts if c > 0])\n",
    "    values.map(lambda x : -math.log(p))"
   ]
  },
  {
   "cell_type": "code",
   "execution_count": 30,
   "metadata": {},
   "outputs": [
    {
     "ename": "SyntaxError",
     "evalue": "invalid syntax (<ipython-input-30-af9e326e4577>, line 1)",
     "output_type": "error",
     "traceback": [
      "\u001b[0;36m  File \u001b[0;32m\"<ipython-input-30-af9e326e4577>\"\u001b[0;36m, line \u001b[0;32m1\u001b[0m\n\u001b[0;31m    clusterLabel =\u001b[0m\n\u001b[0m                   ^\u001b[0m\n\u001b[0;31mSyntaxError\u001b[0m\u001b[0;31m:\u001b[0m invalid syntax\n"
     ]
    }
   ],
   "source": [
    "clusterLabel = "
   ]
  }
 ],
 "metadata": {
  "kernelspec": {
   "display_name": "Python 3",
   "language": "python",
   "name": "python3"
  },
  "language_info": {
   "codemirror_mode": {
    "name": "ipython",
    "version": 3
   },
   "file_extension": ".py",
   "mimetype": "text/x-python",
   "name": "python",
   "nbconvert_exporter": "python",
   "pygments_lexer": "ipython3",
   "version": "3.8.6"
  }
 },
 "nbformat": 4,
 "nbformat_minor": 4
}
